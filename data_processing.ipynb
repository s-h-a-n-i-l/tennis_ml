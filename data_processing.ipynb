{
 "cells": [
  {
   "cell_type": "code",
   "execution_count": 7,
   "id": "a6b6b5ab",
   "metadata": {},
   "outputs": [],
   "source": [
    "import pandas as pd\n",
    "import csv\n",
    "import os"
   ]
  },
  {
   "cell_type": "markdown",
   "id": "4db0c58a",
   "metadata": {},
   "source": [
    "setting up the data "
   ]
  },
  {
   "cell_type": "code",
   "execution_count": 8,
   "id": "7697482d",
   "metadata": {},
   "outputs": [],
   "source": [
    "def pair_match_point_files(file_names):\n",
    "    file_set = set(file_names)\n",
    "    pairs = []\n",
    "    for name in file_names:\n",
    "        if \"matches\" in name:\n",
    "            points_name = name.replace(\"matches\", \"points\")\n",
    "            if points_name in file_set:\n",
    "                pairs.append([name, points_name])\n",
    "    return pairs"
   ]
  },
  {
   "cell_type": "code",
   "execution_count": 9,
   "id": "9ab3f1bf",
   "metadata": {},
   "outputs": [],
   "source": [
    "files = pair_match_point_files(os.listdir('data/raw data'))\n",
    "exp = files[0][1]"
   ]
  },
  {
   "cell_type": "code",
   "execution_count": 10,
   "id": "9de3e766",
   "metadata": {},
   "outputs": [
    {
     "data": {
      "text/plain": [
       "'2023-wimbledon-points-mixed.csv'"
      ]
     },
     "execution_count": 10,
     "metadata": {},
     "output_type": "execute_result"
    }
   ],
   "source": [
    "exp"
   ]
  },
  {
   "cell_type": "code",
   "execution_count": 49,
   "id": "643546d4",
   "metadata": {},
   "outputs": [
    {
     "name": "stdout",
     "output_type": "stream",
     "text": [
      "              match_id  SetNo  GameNo  PointNumber  PointWinner  PointServer  \\\n",
      "0    2012-ausopen-1101      1       1            1            1            1   \n",
      "1    2012-ausopen-1101      1       1            2            1            1   \n",
      "2    2012-ausopen-1101      1       1            3            1            1   \n",
      "3    2012-ausopen-1101      1       1            4            2            1   \n",
      "4    2012-ausopen-1101      1       1            5            2            1   \n",
      "..                 ...    ...     ...          ...          ...          ...   \n",
      "118  2012-ausopen-1101      3       6          119            2            2   \n",
      "119  2012-ausopen-1101      3       6          120            1            2   \n",
      "120  2012-ausopen-1101      3       6          121            1            2   \n",
      "121  2012-ausopen-1101      3       6          122            1            2   \n",
      "122  2012-ausopen-1101      3       6          123            1            2   \n",
      "\n",
      "    P1Score P2Score  P1Momentum  P2Momentum  P1PointsWon  P2PointsWon  P1Ace  \\\n",
      "0        15       0           2           1            1            0      0   \n",
      "1        30       0           4           1            2            0      0   \n",
      "2        40       0           7           1            3            0      0   \n",
      "3        40      15           5           2            3            1      0   \n",
      "4        40      30           5           5            3            2      0   \n",
      "..      ...     ...         ...         ...          ...          ...    ...   \n",
      "118       0      15         159           5           78           41      0   \n",
      "119      15      15         161           4           79           41      0   \n",
      "120      30      15         162           2           80           41      0   \n",
      "121      40      15         165           2           81           41      0   \n",
      "122       0       0         175           1           82           41      0   \n",
      "\n",
      "     P2Ace  P1Winner  P2Winner  \n",
      "0        0         0         0  \n",
      "1        0         0         0  \n",
      "2        0         1         0  \n",
      "3        0         0         0  \n",
      "4        0         0         1  \n",
      "..     ...       ...       ...  \n",
      "118      0         0         1  \n",
      "119      0         0         0  \n",
      "120      0         0         0  \n",
      "121      0         1         0  \n",
      "122      0         1         0  \n",
      "\n",
      "[123 rows x 16 columns]\n"
     ]
    }
   ],
   "source": [
    "path ='2012-ausopen-points.csv'\n",
    "ex = pd.read_csv(f\"data/raw data/{path}\")\n",
    "games = ex.sort_values(['match_id','SetNo','GameNo','PointNumber']).copy()\n",
    "#print(games['match_id'].unique())\n",
    "for i in (games['match_id'].unique().tolist()):\n",
    "    print(games[games['match_id'] == i][['match_id', 'SetNo', 'GameNo', 'PointNumber', 'PointWinner', 'PointServer', 'P1Score','P2Score','P1Momentum','P2Momentum','P1PointsWon','P2PointsWon','P1Ace','P2Ace','P1Winner','P2Winner']])\n",
    "    break"
   ]
  }
 ],
 "metadata": {
  "kernelspec": {
   "display_name": "tennis-ml",
   "language": "python",
   "name": "python3"
  },
  "language_info": {
   "codemirror_mode": {
    "name": "ipython",
    "version": 3
   },
   "file_extension": ".py",
   "mimetype": "text/x-python",
   "name": "python",
   "nbconvert_exporter": "python",
   "pygments_lexer": "ipython3",
   "version": "3.13.5"
  }
 },
 "nbformat": 4,
 "nbformat_minor": 5
}
